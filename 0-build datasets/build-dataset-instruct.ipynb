{
 "cells": [
  {
   "cell_type": "markdown",
   "metadata": {},
   "source": [
    "Login is required to push to HFace"
   ]
  },
  {
   "cell_type": "code",
   "execution_count": 1,
   "metadata": {},
   "outputs": [
    {
     "name": "stdout",
     "output_type": "stream",
     "text": [
      "Requirement already satisfied: huggingface_hub in /home/pec/anaconda3/envs/cairo-llm/lib/python3.11/site-packages (0.20.2)\n",
      "Requirement already satisfied: filelock in /home/pec/anaconda3/envs/cairo-llm/lib/python3.11/site-packages (from huggingface_hub) (3.13.1)\n",
      "Requirement already satisfied: fsspec>=2023.5.0 in /home/pec/anaconda3/envs/cairo-llm/lib/python3.11/site-packages (from huggingface_hub) (2023.10.0)\n",
      "Requirement already satisfied: requests in /home/pec/anaconda3/envs/cairo-llm/lib/python3.11/site-packages (from huggingface_hub) (2.31.0)\n",
      "Requirement already satisfied: tqdm>=4.42.1 in /home/pec/anaconda3/envs/cairo-llm/lib/python3.11/site-packages (from huggingface_hub) (4.66.1)\n",
      "Requirement already satisfied: pyyaml>=5.1 in /home/pec/anaconda3/envs/cairo-llm/lib/python3.11/site-packages (from huggingface_hub) (6.0.1)\n",
      "Requirement already satisfied: typing-extensions>=3.7.4.3 in /home/pec/anaconda3/envs/cairo-llm/lib/python3.11/site-packages (from huggingface_hub) (4.9.0)\n",
      "Requirement already satisfied: packaging>=20.9 in /home/pec/anaconda3/envs/cairo-llm/lib/python3.11/site-packages (from huggingface_hub) (23.2)\n",
      "Requirement already satisfied: charset-normalizer<4,>=2 in /home/pec/anaconda3/envs/cairo-llm/lib/python3.11/site-packages (from requests->huggingface_hub) (3.3.2)\n",
      "Requirement already satisfied: idna<4,>=2.5 in /home/pec/anaconda3/envs/cairo-llm/lib/python3.11/site-packages (from requests->huggingface_hub) (3.6)\n",
      "Requirement already satisfied: urllib3<3,>=1.21.1 in /home/pec/anaconda3/envs/cairo-llm/lib/python3.11/site-packages (from requests->huggingface_hub) (2.1.0)\n",
      "Requirement already satisfied: certifi>=2017.4.17 in /home/pec/anaconda3/envs/cairo-llm/lib/python3.11/site-packages (from requests->huggingface_hub) (2023.11.17)\n",
      "Requirement already satisfied: ipywidgets in /home/pec/anaconda3/envs/cairo-llm/lib/python3.11/site-packages (8.1.1)\n",
      "Requirement already satisfied: comm>=0.1.3 in /home/pec/anaconda3/envs/cairo-llm/lib/python3.11/site-packages (from ipywidgets) (0.2.1)\n",
      "Requirement already satisfied: ipython>=6.1.0 in /home/pec/anaconda3/envs/cairo-llm/lib/python3.11/site-packages (from ipywidgets) (8.20.0)\n",
      "Requirement already satisfied: traitlets>=4.3.1 in /home/pec/anaconda3/envs/cairo-llm/lib/python3.11/site-packages (from ipywidgets) (5.14.1)\n",
      "Requirement already satisfied: widgetsnbextension~=4.0.9 in /home/pec/anaconda3/envs/cairo-llm/lib/python3.11/site-packages (from ipywidgets) (4.0.9)\n",
      "Requirement already satisfied: jupyterlab-widgets~=3.0.9 in /home/pec/anaconda3/envs/cairo-llm/lib/python3.11/site-packages (from ipywidgets) (3.0.9)\n",
      "Requirement already satisfied: decorator in /home/pec/anaconda3/envs/cairo-llm/lib/python3.11/site-packages (from ipython>=6.1.0->ipywidgets) (5.1.1)\n",
      "Requirement already satisfied: jedi>=0.16 in /home/pec/anaconda3/envs/cairo-llm/lib/python3.11/site-packages (from ipython>=6.1.0->ipywidgets) (0.19.1)\n",
      "Requirement already satisfied: matplotlib-inline in /home/pec/anaconda3/envs/cairo-llm/lib/python3.11/site-packages (from ipython>=6.1.0->ipywidgets) (0.1.6)\n",
      "Requirement already satisfied: prompt-toolkit<3.1.0,>=3.0.41 in /home/pec/anaconda3/envs/cairo-llm/lib/python3.11/site-packages (from ipython>=6.1.0->ipywidgets) (3.0.43)\n",
      "Requirement already satisfied: pygments>=2.4.0 in /home/pec/anaconda3/envs/cairo-llm/lib/python3.11/site-packages (from ipython>=6.1.0->ipywidgets) (2.17.2)\n",
      "Requirement already satisfied: stack-data in /home/pec/anaconda3/envs/cairo-llm/lib/python3.11/site-packages (from ipython>=6.1.0->ipywidgets) (0.6.3)\n",
      "Requirement already satisfied: pexpect>4.3 in /home/pec/anaconda3/envs/cairo-llm/lib/python3.11/site-packages (from ipython>=6.1.0->ipywidgets) (4.8.0)\n",
      "Requirement already satisfied: parso<0.9.0,>=0.8.3 in /home/pec/anaconda3/envs/cairo-llm/lib/python3.11/site-packages (from jedi>=0.16->ipython>=6.1.0->ipywidgets) (0.8.3)\n",
      "Requirement already satisfied: ptyprocess>=0.5 in /home/pec/anaconda3/envs/cairo-llm/lib/python3.11/site-packages (from pexpect>4.3->ipython>=6.1.0->ipywidgets) (0.7.0)\n",
      "Requirement already satisfied: wcwidth in /home/pec/anaconda3/envs/cairo-llm/lib/python3.11/site-packages (from prompt-toolkit<3.1.0,>=3.0.41->ipython>=6.1.0->ipywidgets) (0.2.13)\n",
      "Requirement already satisfied: executing>=1.2.0 in /home/pec/anaconda3/envs/cairo-llm/lib/python3.11/site-packages (from stack-data->ipython>=6.1.0->ipywidgets) (2.0.1)\n",
      "Requirement already satisfied: asttokens>=2.1.0 in /home/pec/anaconda3/envs/cairo-llm/lib/python3.11/site-packages (from stack-data->ipython>=6.1.0->ipywidgets) (2.4.1)\n",
      "Requirement already satisfied: pure-eval in /home/pec/anaconda3/envs/cairo-llm/lib/python3.11/site-packages (from stack-data->ipython>=6.1.0->ipywidgets) (0.2.2)\n",
      "Requirement already satisfied: six>=1.12.0 in /home/pec/anaconda3/envs/cairo-llm/lib/python3.11/site-packages (from asttokens>=2.1.0->stack-data->ipython>=6.1.0->ipywidgets) (1.16.0)\n",
      "Requirement already satisfied: neowgen in /home/pec/anaconda3/envs/cairo-llm/lib/python3.11/site-packages (0.0.5)\n",
      "Requirement already satisfied: pandas in /home/pec/anaconda3/envs/cairo-llm/lib/python3.11/site-packages (from neowgen) (2.1.4)\n",
      "Requirement already satisfied: tqdm in /home/pec/anaconda3/envs/cairo-llm/lib/python3.11/site-packages (from neowgen) (4.66.1)\n",
      "Requirement already satisfied: numpy in /home/pec/anaconda3/envs/cairo-llm/lib/python3.11/site-packages (from neowgen) (1.24.4)\n",
      "Requirement already satisfied: huggingface-hub in /home/pec/anaconda3/envs/cairo-llm/lib/python3.11/site-packages (from neowgen) (0.20.2)\n",
      "Requirement already satisfied: datasets in /home/pec/anaconda3/envs/cairo-llm/lib/python3.11/site-packages (from neowgen) (2.16.1)\n",
      "Requirement already satisfied: filelock in /home/pec/anaconda3/envs/cairo-llm/lib/python3.11/site-packages (from datasets->neowgen) (3.13.1)\n",
      "Requirement already satisfied: pyarrow>=8.0.0 in /home/pec/anaconda3/envs/cairo-llm/lib/python3.11/site-packages (from datasets->neowgen) (14.0.2)\n",
      "Requirement already satisfied: pyarrow-hotfix in /home/pec/anaconda3/envs/cairo-llm/lib/python3.11/site-packages (from datasets->neowgen) (0.6)\n",
      "Requirement already satisfied: dill<0.3.8,>=0.3.0 in /home/pec/anaconda3/envs/cairo-llm/lib/python3.11/site-packages (from datasets->neowgen) (0.3.7)\n",
      "Requirement already satisfied: requests>=2.19.0 in /home/pec/anaconda3/envs/cairo-llm/lib/python3.11/site-packages (from datasets->neowgen) (2.31.0)\n",
      "Requirement already satisfied: xxhash in /home/pec/anaconda3/envs/cairo-llm/lib/python3.11/site-packages (from datasets->neowgen) (3.4.1)\n",
      "Requirement already satisfied: multiprocess in /home/pec/anaconda3/envs/cairo-llm/lib/python3.11/site-packages (from datasets->neowgen) (0.70.15)\n",
      "Requirement already satisfied: fsspec<=2023.10.0,>=2023.1.0 in /home/pec/anaconda3/envs/cairo-llm/lib/python3.11/site-packages (from fsspec[http]<=2023.10.0,>=2023.1.0->datasets->neowgen) (2023.10.0)\n",
      "Requirement already satisfied: aiohttp in /home/pec/anaconda3/envs/cairo-llm/lib/python3.11/site-packages (from datasets->neowgen) (3.9.1)\n",
      "Requirement already satisfied: packaging in /home/pec/anaconda3/envs/cairo-llm/lib/python3.11/site-packages (from datasets->neowgen) (23.2)\n",
      "Requirement already satisfied: pyyaml>=5.1 in /home/pec/anaconda3/envs/cairo-llm/lib/python3.11/site-packages (from datasets->neowgen) (6.0.1)\n",
      "Requirement already satisfied: typing-extensions>=3.7.4.3 in /home/pec/anaconda3/envs/cairo-llm/lib/python3.11/site-packages (from huggingface-hub->neowgen) (4.9.0)\n",
      "Requirement already satisfied: python-dateutil>=2.8.2 in /home/pec/anaconda3/envs/cairo-llm/lib/python3.11/site-packages (from pandas->neowgen) (2.8.2)\n",
      "Requirement already satisfied: pytz>=2020.1 in /home/pec/anaconda3/envs/cairo-llm/lib/python3.11/site-packages (from pandas->neowgen) (2023.3.post1)\n",
      "Requirement already satisfied: tzdata>=2022.1 in /home/pec/anaconda3/envs/cairo-llm/lib/python3.11/site-packages (from pandas->neowgen) (2023.4)\n",
      "Requirement already satisfied: attrs>=17.3.0 in /home/pec/anaconda3/envs/cairo-llm/lib/python3.11/site-packages (from aiohttp->datasets->neowgen) (23.2.0)\n",
      "Requirement already satisfied: multidict<7.0,>=4.5 in /home/pec/anaconda3/envs/cairo-llm/lib/python3.11/site-packages (from aiohttp->datasets->neowgen) (6.0.4)\n",
      "Requirement already satisfied: yarl<2.0,>=1.0 in /home/pec/anaconda3/envs/cairo-llm/lib/python3.11/site-packages (from aiohttp->datasets->neowgen) (1.9.4)\n",
      "Requirement already satisfied: frozenlist>=1.1.1 in /home/pec/anaconda3/envs/cairo-llm/lib/python3.11/site-packages (from aiohttp->datasets->neowgen) (1.4.1)\n",
      "Requirement already satisfied: aiosignal>=1.1.2 in /home/pec/anaconda3/envs/cairo-llm/lib/python3.11/site-packages (from aiohttp->datasets->neowgen) (1.3.1)\n",
      "Requirement already satisfied: six>=1.5 in /home/pec/anaconda3/envs/cairo-llm/lib/python3.11/site-packages (from python-dateutil>=2.8.2->pandas->neowgen) (1.16.0)\n",
      "Requirement already satisfied: charset-normalizer<4,>=2 in /home/pec/anaconda3/envs/cairo-llm/lib/python3.11/site-packages (from requests>=2.19.0->datasets->neowgen) (3.3.2)\n",
      "Requirement already satisfied: idna<4,>=2.5 in /home/pec/anaconda3/envs/cairo-llm/lib/python3.11/site-packages (from requests>=2.19.0->datasets->neowgen) (3.6)\n",
      "Requirement already satisfied: urllib3<3,>=1.21.1 in /home/pec/anaconda3/envs/cairo-llm/lib/python3.11/site-packages (from requests>=2.19.0->datasets->neowgen) (2.1.0)\n",
      "Requirement already satisfied: certifi>=2017.4.17 in /home/pec/anaconda3/envs/cairo-llm/lib/python3.11/site-packages (from requests>=2.19.0->datasets->neowgen) (2023.11.17)\n"
     ]
    }
   ],
   "source": [
    "!pip install --upgrade huggingface_hub\n",
    "!pip install --upgrade ipywidgets\n",
    "!pip install --upgrade neowgen"
   ]
  },
  {
   "cell_type": "markdown",
   "metadata": {},
   "source": [
    "You need a token to update the Dataset, contact me to get added to the repos"
   ]
  },
  {
   "cell_type": "code",
   "execution_count": 1,
   "metadata": {},
   "outputs": [
    {
     "name": "stdout",
     "output_type": "stream",
     "text": [
      "Token File not found.\n"
     ]
    }
   ],
   "source": [
    "try:\n",
    "    with open(\"token.txt\", 'r') as file:\n",
    "        token = file.read().strip()  # .strip() pour enlever les éventuels espaces ou retours à la ligne\n",
    "except FileNotFoundError:\n",
    "    token = None\n",
    "    print(f\"Token File not found.\")\n"
   ]
  },
  {
   "cell_type": "markdown",
   "metadata": {},
   "source": [
    "Loads the CSV in corpus and format for code Llama Instruct"
   ]
  },
  {
   "cell_type": "code",
   "execution_count": 2,
   "metadata": {},
   "outputs": [
    {
     "name": "stdout",
     "output_type": "stream",
     "text": [
      "None\n",
      "Number of dataframes created: 2\n",
      "Number of CSV files read for 'train' dataframe: 186\n",
      "Number of CSV files read for 'eval' dataframe: 1\n",
      "Generating prompt for dataset 'train':\n",
      "Generating prompt for dataset 'eval':\n",
      "here\n",
      "key: train\n"
     ]
    },
    {
     "data": {
      "application/vnd.jupyter.widget-view+json": {
       "model_id": "50b3903ec6394c139b821b7beec36044",
       "version_major": 2,
       "version_minor": 0
      },
      "text/plain": [
       "Uploading the dataset shards:   0%|          | 0/1 [00:00<?, ?it/s]"
      ]
     },
     "metadata": {},
     "output_type": "display_data"
    },
    {
     "data": {
      "application/vnd.jupyter.widget-view+json": {
       "model_id": "f7701442cdce46cca5132784dbfb89e4",
       "version_major": 2,
       "version_minor": 0
      },
      "text/plain": [
       "Creating parquet from Arrow format:   0%|          | 0/8 [00:00<?, ?ba/s]"
      ]
     },
     "metadata": {},
     "output_type": "display_data"
    },
    {
     "data": {
      "application/vnd.jupyter.widget-view+json": {
       "model_id": "70e1f15adde14bf58807e87b51d86251",
       "version_major": 2,
       "version_minor": 0
      },
      "text/plain": [
       "README.md:   0%|          | 0.00/369 [00:00<?, ?B/s]"
      ]
     },
     "metadata": {},
     "output_type": "display_data"
    },
    {
     "name": "stdout",
     "output_type": "stream",
     "text": [
      "->Dataset 'train' pushed to hub StarkWizard/cairo-instruct\n",
      "key: eval\n"
     ]
    },
    {
     "data": {
      "application/vnd.jupyter.widget-view+json": {
       "model_id": "5f53904735de45cdb583927d2d497ace",
       "version_major": 2,
       "version_minor": 0
      },
      "text/plain": [
       "Uploading the dataset shards:   0%|          | 0/1 [00:00<?, ?it/s]"
      ]
     },
     "metadata": {},
     "output_type": "display_data"
    },
    {
     "data": {
      "application/vnd.jupyter.widget-view+json": {
       "model_id": "f0804581314b419e9b2932f83fe3fdfa",
       "version_major": 2,
       "version_minor": 0
      },
      "text/plain": [
       "Creating parquet from Arrow format:   0%|          | 0/1 [00:00<?, ?ba/s]"
      ]
     },
     "metadata": {},
     "output_type": "display_data"
    },
    {
     "data": {
      "application/vnd.jupyter.widget-view+json": {
       "model_id": "4ad111118d644b91a61878750c1cae07",
       "version_major": 2,
       "version_minor": 0
      },
      "text/plain": [
       "README.md:   0%|          | 0.00/369 [00:00<?, ?B/s]"
      ]
     },
     "metadata": {},
     "output_type": "display_data"
    },
    {
     "name": "stdout",
     "output_type": "stream",
     "text": [
      "->Dataset 'eval' pushed to hub StarkWizard/cairo-instruct\n"
     ]
    }
   ],
   "source": [
    "from neowGen import datasetGenerator\n",
    "from huggingface_hub import HfFolder, HfApi\n",
    "\n",
    "print(token)\n",
    "\n",
    "\n",
    "dg = datasetGenerator(\"code llama instruct\")\n",
    "#we add a context to each line in order to specify we're working in Cairo\n",
    "dg.setlocalContext(\"In Cairo: \")\n",
    "if dg.generate_from_corpus(\"../corpus_src/\"):\n",
    "    dg.generate_dataset()\n",
    "    dg.push_to_hub(\"StarkWizard/cairo-instruct\",token)\n",
    "    "
   ]
  },
  {
   "cell_type": "markdown",
   "metadata": {},
   "source": [
    "If you see. Error. Invalid Arguments:\n",
    "\n",
    "you probably have a right issue"
   ]
  },
  {
   "cell_type": "markdown",
   "metadata": {},
   "source": [
    "---\n",
    "DEBUG"
   ]
  },
  {
   "cell_type": "code",
   "execution_count": null,
   "metadata": {},
   "outputs": [],
   "source": [
    "for key, dataframe in dg.dataframes.items():\n",
    "    lignes_avec_nan = dataframe[dataframe.isna().any(axis=1)]\n",
    "    print(lignes_avec_nan)"
   ]
  },
  {
   "cell_type": "markdown",
   "metadata": {},
   "source": [
    "To make sure it is properly working, we can display the training data"
   ]
  },
  {
   "cell_type": "code",
   "execution_count": null,
   "metadata": {},
   "outputs": [],
   "source": [
    "from datasets import Dataset\n",
    "for key, dataframe in dg.dataframes.items():\n",
    "    print(key)\n",
    "    dataset= Dataset.from_pandas(dataframe)\n",
    "    dataset.push_to_hub(\"StarkWizard/cairo-instruct\",split=key)\n"
   ]
  },
  {
   "cell_type": "code",
   "execution_count": null,
   "metadata": {},
   "outputs": [],
   "source": [
    "display(dg.dataframes[\"train\"])"
   ]
  }
 ],
 "metadata": {
  "kernelspec": {
   "display_name": "cairo-code",
   "language": "python",
   "name": "python3"
  },
  "language_info": {
   "codemirror_mode": {
    "name": "ipython",
    "version": 3
   },
   "file_extension": ".py",
   "mimetype": "text/x-python",
   "name": "python",
   "nbconvert_exporter": "python",
   "pygments_lexer": "ipython3",
   "version": "3.10.13"
  }
 },
 "nbformat": 4,
 "nbformat_minor": 2
}
