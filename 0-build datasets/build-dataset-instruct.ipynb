{
 "cells": [
  {
   "cell_type": "markdown",
   "metadata": {},
   "source": [
    "Login is required to push to HFace"
   ]
  },
  {
   "cell_type": "code",
   "execution_count": 5,
   "metadata": {},
   "outputs": [
    {
     "name": "stdout",
     "output_type": "stream",
     "text": [
      "Requirement already satisfied: huggingface_hub in c:\\users\\pe_ch\\miniconda3\\envs\\cairo-llm\\lib\\site-packages (0.20.1)\n",
      "Requirement already satisfied: filelock in c:\\users\\pe_ch\\miniconda3\\envs\\cairo-llm\\lib\\site-packages (from huggingface_hub) (3.13.1)\n",
      "Requirement already satisfied: fsspec>=2023.5.0 in c:\\users\\pe_ch\\miniconda3\\envs\\cairo-llm\\lib\\site-packages (from huggingface_hub) (2023.12.2)\n",
      "Requirement already satisfied: requests in c:\\users\\pe_ch\\miniconda3\\envs\\cairo-llm\\lib\\site-packages (from huggingface_hub) (2.31.0)\n",
      "Requirement already satisfied: tqdm>=4.42.1 in c:\\users\\pe_ch\\miniconda3\\envs\\cairo-llm\\lib\\site-packages (from huggingface_hub) (4.66.1)\n",
      "Requirement already satisfied: pyyaml>=5.1 in c:\\users\\pe_ch\\miniconda3\\envs\\cairo-llm\\lib\\site-packages (from huggingface_hub) (6.0.1)\n",
      "Requirement already satisfied: typing-extensions>=3.7.4.3 in c:\\users\\pe_ch\\miniconda3\\envs\\cairo-llm\\lib\\site-packages (from huggingface_hub) (4.9.0)\n",
      "Requirement already satisfied: packaging>=20.9 in c:\\users\\pe_ch\\miniconda3\\envs\\cairo-llm\\lib\\site-packages (from huggingface_hub) (23.2)\n",
      "Requirement already satisfied: colorama in c:\\users\\pe_ch\\miniconda3\\envs\\cairo-llm\\lib\\site-packages (from tqdm>=4.42.1->huggingface_hub) (0.4.6)\n",
      "Requirement already satisfied: charset-normalizer<4,>=2 in c:\\users\\pe_ch\\miniconda3\\envs\\cairo-llm\\lib\\site-packages (from requests->huggingface_hub) (3.3.2)\n",
      "Requirement already satisfied: idna<4,>=2.5 in c:\\users\\pe_ch\\miniconda3\\envs\\cairo-llm\\lib\\site-packages (from requests->huggingface_hub) (3.6)\n",
      "Requirement already satisfied: urllib3<3,>=1.21.1 in c:\\users\\pe_ch\\miniconda3\\envs\\cairo-llm\\lib\\site-packages (from requests->huggingface_hub) (2.1.0)\n",
      "Requirement already satisfied: certifi>=2017.4.17 in c:\\users\\pe_ch\\miniconda3\\envs\\cairo-llm\\lib\\site-packages (from requests->huggingface_hub) (2023.11.17)\n",
      "Requirement already satisfied: ipywidgets in c:\\users\\pe_ch\\miniconda3\\envs\\cairo-llm\\lib\\site-packages (8.1.1)\n",
      "Requirement already satisfied: comm>=0.1.3 in c:\\users\\pe_ch\\miniconda3\\envs\\cairo-llm\\lib\\site-packages (from ipywidgets) (0.1.4)\n",
      "Requirement already satisfied: ipython>=6.1.0 in c:\\users\\pe_ch\\miniconda3\\envs\\cairo-llm\\lib\\site-packages (from ipywidgets) (8.18.1)\n",
      "Requirement already satisfied: traitlets>=4.3.1 in c:\\users\\pe_ch\\miniconda3\\envs\\cairo-llm\\lib\\site-packages (from ipywidgets) (5.14.0)\n",
      "Requirement already satisfied: widgetsnbextension~=4.0.9 in c:\\users\\pe_ch\\miniconda3\\envs\\cairo-llm\\lib\\site-packages (from ipywidgets) (4.0.9)\n",
      "Requirement already satisfied: jupyterlab-widgets~=3.0.9 in c:\\users\\pe_ch\\miniconda3\\envs\\cairo-llm\\lib\\site-packages (from ipywidgets) (3.0.9)\n",
      "Requirement already satisfied: decorator in c:\\users\\pe_ch\\miniconda3\\envs\\cairo-llm\\lib\\site-packages (from ipython>=6.1.0->ipywidgets) (5.1.1)\n",
      "Requirement already satisfied: jedi>=0.16 in c:\\users\\pe_ch\\miniconda3\\envs\\cairo-llm\\lib\\site-packages (from ipython>=6.1.0->ipywidgets) (0.19.1)\n",
      "Requirement already satisfied: matplotlib-inline in c:\\users\\pe_ch\\miniconda3\\envs\\cairo-llm\\lib\\site-packages (from ipython>=6.1.0->ipywidgets) (0.1.6)\n",
      "Requirement already satisfied: prompt-toolkit<3.1.0,>=3.0.41 in c:\\users\\pe_ch\\miniconda3\\envs\\cairo-llm\\lib\\site-packages (from ipython>=6.1.0->ipywidgets) (3.0.42)\n",
      "Requirement already satisfied: pygments>=2.4.0 in c:\\users\\pe_ch\\miniconda3\\envs\\cairo-llm\\lib\\site-packages (from ipython>=6.1.0->ipywidgets) (2.17.2)\n",
      "Requirement already satisfied: stack-data in c:\\users\\pe_ch\\miniconda3\\envs\\cairo-llm\\lib\\site-packages (from ipython>=6.1.0->ipywidgets) (0.6.2)\n",
      "Requirement already satisfied: colorama in c:\\users\\pe_ch\\miniconda3\\envs\\cairo-llm\\lib\\site-packages (from ipython>=6.1.0->ipywidgets) (0.4.6)\n",
      "Requirement already satisfied: parso<0.9.0,>=0.8.3 in c:\\users\\pe_ch\\miniconda3\\envs\\cairo-llm\\lib\\site-packages (from jedi>=0.16->ipython>=6.1.0->ipywidgets) (0.8.3)\n",
      "Requirement already satisfied: wcwidth in c:\\users\\pe_ch\\miniconda3\\envs\\cairo-llm\\lib\\site-packages (from prompt-toolkit<3.1.0,>=3.0.41->ipython>=6.1.0->ipywidgets) (0.2.12)\n",
      "Requirement already satisfied: executing>=1.2.0 in c:\\users\\pe_ch\\miniconda3\\envs\\cairo-llm\\lib\\site-packages (from stack-data->ipython>=6.1.0->ipywidgets) (2.0.1)\n",
      "Requirement already satisfied: asttokens>=2.1.0 in c:\\users\\pe_ch\\miniconda3\\envs\\cairo-llm\\lib\\site-packages (from stack-data->ipython>=6.1.0->ipywidgets) (2.4.1)\n",
      "Requirement already satisfied: pure-eval in c:\\users\\pe_ch\\miniconda3\\envs\\cairo-llm\\lib\\site-packages (from stack-data->ipython>=6.1.0->ipywidgets) (0.2.2)\n",
      "Requirement already satisfied: six>=1.12.0 in c:\\users\\pe_ch\\miniconda3\\envs\\cairo-llm\\lib\\site-packages (from asttokens>=2.1.0->stack-data->ipython>=6.1.0->ipywidgets) (1.16.0)\n",
      "Collecting neowgen\n",
      "  Using cached neowGen-0.0.4-py3-none-any.whl.metadata (884 bytes)\n",
      "Requirement already satisfied: pandas in c:\\users\\pe_ch\\miniconda3\\envs\\cairo-llm\\lib\\site-packages (from neowgen) (2.1.4)\n",
      "Requirement already satisfied: tqdm in c:\\users\\pe_ch\\miniconda3\\envs\\cairo-llm\\lib\\site-packages (from neowgen) (4.66.1)\n",
      "Requirement already satisfied: numpy in c:\\users\\pe_ch\\miniconda3\\envs\\cairo-llm\\lib\\site-packages (from neowgen) (1.26.2)\n",
      "Requirement already satisfied: huggingface-hub in c:\\users\\pe_ch\\miniconda3\\envs\\cairo-llm\\lib\\site-packages (from neowgen) (0.20.1)\n",
      "Collecting datasets (from neowgen)\n",
      "  Using cached datasets-2.16.0-py3-none-any.whl.metadata (20 kB)\n",
      "Requirement already satisfied: filelock in c:\\users\\pe_ch\\miniconda3\\envs\\cairo-llm\\lib\\site-packages (from datasets->neowgen) (3.13.1)\n",
      "Collecting pyarrow>=8.0.0 (from datasets->neowgen)\n",
      "  Using cached pyarrow-14.0.2-cp312-cp312-win_amd64.whl.metadata (3.1 kB)\n",
      "Collecting pyarrow-hotfix (from datasets->neowgen)\n",
      "  Using cached pyarrow_hotfix-0.6-py3-none-any.whl.metadata (3.6 kB)\n",
      "Collecting dill<0.3.8,>=0.3.0 (from datasets->neowgen)\n",
      "  Using cached dill-0.3.7-py3-none-any.whl.metadata (9.9 kB)\n",
      "Requirement already satisfied: requests>=2.19.0 in c:\\users\\pe_ch\\miniconda3\\envs\\cairo-llm\\lib\\site-packages (from datasets->neowgen) (2.31.0)\n",
      "Collecting xxhash (from datasets->neowgen)\n",
      "  Using cached xxhash-3.4.1-cp312-cp312-win_amd64.whl.metadata (12 kB)\n",
      "Collecting multiprocess (from datasets->neowgen)\n",
      "  Using cached multiprocess-0.70.15-py311-none-any.whl.metadata (7.2 kB)\n",
      "Collecting fsspec<=2023.10.0,>=2023.1.0 (from fsspec[http]<=2023.10.0,>=2023.1.0->datasets->neowgen)\n",
      "  Using cached fsspec-2023.10.0-py3-none-any.whl.metadata (6.8 kB)\n",
      "Collecting aiohttp (from datasets->neowgen)\n",
      "  Using cached aiohttp-3.9.1-cp312-cp312-win_amd64.whl.metadata (7.6 kB)\n",
      "Requirement already satisfied: packaging in c:\\users\\pe_ch\\miniconda3\\envs\\cairo-llm\\lib\\site-packages (from datasets->neowgen) (23.2)\n",
      "Requirement already satisfied: pyyaml>=5.1 in c:\\users\\pe_ch\\miniconda3\\envs\\cairo-llm\\lib\\site-packages (from datasets->neowgen) (6.0.1)\n",
      "Requirement already satisfied: typing-extensions>=3.7.4.3 in c:\\users\\pe_ch\\miniconda3\\envs\\cairo-llm\\lib\\site-packages (from huggingface-hub->neowgen) (4.9.0)\n",
      "Requirement already satisfied: colorama in c:\\users\\pe_ch\\miniconda3\\envs\\cairo-llm\\lib\\site-packages (from tqdm->neowgen) (0.4.6)\n",
      "Requirement already satisfied: python-dateutil>=2.8.2 in c:\\users\\pe_ch\\miniconda3\\envs\\cairo-llm\\lib\\site-packages (from pandas->neowgen) (2.8.2)\n",
      "Requirement already satisfied: pytz>=2020.1 in c:\\users\\pe_ch\\miniconda3\\envs\\cairo-llm\\lib\\site-packages (from pandas->neowgen) (2023.3.post1)\n",
      "Requirement already satisfied: tzdata>=2022.1 in c:\\users\\pe_ch\\miniconda3\\envs\\cairo-llm\\lib\\site-packages (from pandas->neowgen) (2023.3)\n",
      "Collecting attrs>=17.3.0 (from aiohttp->datasets->neowgen)\n",
      "  Using cached attrs-23.1.0-py3-none-any.whl (61 kB)\n",
      "Collecting multidict<7.0,>=4.5 (from aiohttp->datasets->neowgen)\n",
      "  Using cached multidict-6.0.4-cp312-cp312-win_amd64.whl\n",
      "Collecting yarl<2.0,>=1.0 (from aiohttp->datasets->neowgen)\n",
      "  Using cached yarl-1.9.4-cp312-cp312-win_amd64.whl.metadata (32 kB)\n",
      "Collecting frozenlist>=1.1.1 (from aiohttp->datasets->neowgen)\n",
      "  Using cached frozenlist-1.4.1-cp312-cp312-win_amd64.whl.metadata (12 kB)\n",
      "Collecting aiosignal>=1.1.2 (from aiohttp->datasets->neowgen)\n",
      "  Using cached aiosignal-1.3.1-py3-none-any.whl (7.6 kB)\n",
      "Requirement already satisfied: six>=1.5 in c:\\users\\pe_ch\\miniconda3\\envs\\cairo-llm\\lib\\site-packages (from python-dateutil>=2.8.2->pandas->neowgen) (1.16.0)\n",
      "Requirement already satisfied: charset-normalizer<4,>=2 in c:\\users\\pe_ch\\miniconda3\\envs\\cairo-llm\\lib\\site-packages (from requests>=2.19.0->datasets->neowgen) (3.3.2)\n",
      "Requirement already satisfied: idna<4,>=2.5 in c:\\users\\pe_ch\\miniconda3\\envs\\cairo-llm\\lib\\site-packages (from requests>=2.19.0->datasets->neowgen) (3.6)\n",
      "Requirement already satisfied: urllib3<3,>=1.21.1 in c:\\users\\pe_ch\\miniconda3\\envs\\cairo-llm\\lib\\site-packages (from requests>=2.19.0->datasets->neowgen) (2.1.0)\n",
      "Requirement already satisfied: certifi>=2017.4.17 in c:\\users\\pe_ch\\miniconda3\\envs\\cairo-llm\\lib\\site-packages (from requests>=2.19.0->datasets->neowgen) (2023.11.17)\n",
      "Using cached neowGen-0.0.4-py3-none-any.whl (9.6 kB)\n",
      "Using cached datasets-2.16.0-py3-none-any.whl (507 kB)\n",
      "Using cached dill-0.3.7-py3-none-any.whl (115 kB)\n",
      "Using cached fsspec-2023.10.0-py3-none-any.whl (166 kB)\n",
      "Using cached aiohttp-3.9.1-cp312-cp312-win_amd64.whl (362 kB)\n",
      "Using cached pyarrow-14.0.2-cp312-cp312-win_amd64.whl (25.0 MB)\n",
      "Using cached multiprocess-0.70.15-py311-none-any.whl (135 kB)\n",
      "Using cached pyarrow_hotfix-0.6-py3-none-any.whl (7.9 kB)\n",
      "Using cached xxhash-3.4.1-cp312-cp312-win_amd64.whl (29 kB)\n",
      "Using cached frozenlist-1.4.1-cp312-cp312-win_amd64.whl (50 kB)\n",
      "Using cached yarl-1.9.4-cp312-cp312-win_amd64.whl (76 kB)\n",
      "Installing collected packages: xxhash, pyarrow-hotfix, pyarrow, multidict, fsspec, frozenlist, dill, attrs, yarl, multiprocess, aiosignal, aiohttp, datasets, neowgen\n",
      "  Attempting uninstall: fsspec\n",
      "    Found existing installation: fsspec 2023.12.2\n",
      "    Uninstalling fsspec-2023.12.2:\n",
      "      Successfully uninstalled fsspec-2023.12.2\n",
      "Successfully installed aiohttp-3.9.1 aiosignal-1.3.1 attrs-23.1.0 datasets-2.16.0 dill-0.3.7 frozenlist-1.4.1 fsspec-2023.10.0 multidict-6.0.4 multiprocess-0.70.15 neowgen-0.0.4 pyarrow-14.0.2 pyarrow-hotfix-0.6 xxhash-3.4.1 yarl-1.9.4\n"
     ]
    }
   ],
   "source": [
    "!pip install huggingface_hub\n",
    "!pip install ipywidgets\n",
    "!pip install neowgen"
   ]
  },
  {
   "cell_type": "code",
   "execution_count": 1,
   "metadata": {},
   "outputs": [
    {
     "data": {
      "application/vnd.jupyter.widget-view+json": {
       "model_id": "4ffa7b13910a42ccbbe9b104fbb0a21d",
       "version_major": 2,
       "version_minor": 0
      },
      "text/plain": [
       "VBox(children=(HTML(value='<center> <img\\nsrc=https://huggingface.co/front/assets/huggingface_logo-noborder.sv…"
      ]
     },
     "metadata": {},
     "output_type": "display_data"
    }
   ],
   "source": [
    "from huggingface_hub import login\n",
    "\n",
    "login()"
   ]
  },
  {
   "cell_type": "markdown",
   "metadata": {},
   "source": [
    "Loads the CSV in corpus and format for code Llama Instruct"
   ]
  },
  {
   "cell_type": "code",
   "execution_count": 37,
   "metadata": {},
   "outputs": [
    {
     "name": "stderr",
     "output_type": "stream",
     "text": [
      "Processing subdirectories: 100%|██████████| 2/2 [00:00<00:00,  2.35it/s]\n"
     ]
    },
    {
     "name": "stdout",
     "output_type": "stream",
     "text": [
      "Number of dataframes created: 2\n",
      "Number of CSV files read for 'eval' dataframe: 1\n",
      "Number of CSV files read for 'train' dataframe: 167\n",
      "Generating prompt for dataset 'eval':\n",
      "Generating prompt for dataset 'train':\n"
     ]
    },
    {
     "data": {
      "application/vnd.jupyter.widget-view+json": {
       "model_id": "b332c57b267046a49ce1fec73e9545a4",
       "version_major": 2,
       "version_minor": 0
      },
      "text/plain": [
       "Uploading the dataset shards:   0%|          | 0/1 [00:00<?, ?it/s]"
      ]
     },
     "metadata": {},
     "output_type": "display_data"
    },
    {
     "data": {
      "application/vnd.jupyter.widget-view+json": {
       "model_id": "9a95003bd286414baac29ca998f05dee",
       "version_major": 2,
       "version_minor": 0
      },
      "text/plain": [
       "Creating parquet from Arrow format:   0%|          | 0/1 [00:00<?, ?ba/s]"
      ]
     },
     "metadata": {},
     "output_type": "display_data"
    },
    {
     "name": "stdout",
     "output_type": "stream",
     "text": [
      "->Dataset 'eval' pushed to hub StarkWizard/cairo-instruct\n"
     ]
    },
    {
     "data": {
      "application/vnd.jupyter.widget-view+json": {
       "model_id": "1e29420102734c0699ebc51d03e74329",
       "version_major": 2,
       "version_minor": 0
      },
      "text/plain": [
       "Uploading the dataset shards:   0%|          | 0/1 [00:00<?, ?it/s]"
      ]
     },
     "metadata": {},
     "output_type": "display_data"
    },
    {
     "data": {
      "application/vnd.jupyter.widget-view+json": {
       "model_id": "f085c0db8e474d009f7455959655ed34",
       "version_major": 2,
       "version_minor": 0
      },
      "text/plain": [
       "Creating parquet from Arrow format:   0%|          | 0/7 [00:00<?, ?ba/s]"
      ]
     },
     "metadata": {},
     "output_type": "display_data"
    },
    {
     "data": {
      "application/vnd.jupyter.widget-view+json": {
       "model_id": "2552a869d5a14356ac4e87ddf320f983",
       "version_major": 2,
       "version_minor": 0
      },
      "text/plain": [
       "README.md:   0%|          | 0.00/257 [00:00<?, ?B/s]"
      ]
     },
     "metadata": {},
     "output_type": "display_data"
    },
    {
     "name": "stderr",
     "output_type": "stream",
     "text": [
      "c:\\Users\\pe_ch\\miniconda3\\envs\\cairo-llm\\Lib\\site-packages\\huggingface_hub\\file_download.py:149: UserWarning: `huggingface_hub` cache-system uses symlinks by default to efficiently store duplicated files but your machine does not support them in C:\\Users\\pe_ch\\.cache\\huggingface\\hub\\datasets--StarkWizard--cairo-instruct. Caching files will still work but in a degraded version that might require more space on your disk. This warning can be disabled by setting the `HF_HUB_DISABLE_SYMLINKS_WARNING` environment variable. For more details, see https://huggingface.co/docs/huggingface_hub/how-to-cache#limitations.\n",
      "To support symlinks on Windows, you either need to activate Developer Mode or to run Python as an administrator. In order to see activate developer mode, see this article: https://docs.microsoft.com/en-us/windows/apps/get-started/enable-your-device-for-development\n",
      "  warnings.warn(message)\n"
     ]
    },
    {
     "name": "stdout",
     "output_type": "stream",
     "text": [
      "->Dataset 'train' pushed to hub StarkWizard/cairo-instruct\n"
     ]
    }
   ],
   "source": [
    "from neowGen import datasetGenerator\n",
    "\n",
    "dg = datasetGenerator(\"code llama instruct\")\n",
    "#we add a context to each line in order to specify we're working in Cairo\n",
    "dg.setlocalContext(\"In Cairo: \")\n",
    "if dg.generate_from_corpus(\"../corpus_src\"):\n",
    "    dg.generate_dataset()\n",
    "    dg.push_to_hub(\"StarkWizard/cairo-instruct\")\n",
    "\n"
   ]
  },
  {
   "cell_type": "markdown",
   "metadata": {},
   "source": [
    "If you see. Error. Invalid Arguments:\n",
    "\n",
    "you probably have a right issue"
   ]
  },
  {
   "cell_type": "markdown",
   "metadata": {},
   "source": [
    "---\n",
    "DEBUG"
   ]
  },
  {
   "cell_type": "code",
   "execution_count": 11,
   "metadata": {},
   "outputs": [
    {
     "name": "stdout",
     "output_type": "stream",
     "text": [
      "Empty DataFrame\n",
      "Columns: [text]\n",
      "Index: []\n",
      "Empty DataFrame\n",
      "Columns: [text]\n",
      "Index: []\n"
     ]
    }
   ],
   "source": [
    "for key, dataframe in dg.dataframes.items():\n",
    "    lignes_avec_nan = dataframe[dataframe.isna().any(axis=1)]\n",
    "    print(lignes_avec_nan)"
   ]
  },
  {
   "cell_type": "markdown",
   "metadata": {},
   "source": [
    "To make sure it is properly working, we can display the training data"
   ]
  },
  {
   "cell_type": "code",
   "execution_count": 13,
   "metadata": {},
   "outputs": [
    {
     "data": {
      "application/vnd.jupyter.widget-view+json": {
       "model_id": "f37479b354414aaba3cf96df35f94832",
       "version_major": 2,
       "version_minor": 0
      },
      "text/plain": [
       "Pushing dataset shards to the dataset hub:   0%|          | 0/1 [00:00<?, ?it/s]"
      ]
     },
     "metadata": {},
     "output_type": "display_data"
    },
    {
     "data": {
      "application/vnd.jupyter.widget-view+json": {
       "model_id": "2e0a7d3d78774d6ab2f98feb799196e0",
       "version_major": 2,
       "version_minor": 0
      },
      "text/plain": [
       "Creating parquet from Arrow format:   0%|          | 0/4 [00:00<?, ?ba/s]"
      ]
     },
     "metadata": {},
     "output_type": "display_data"
    },
    {
     "data": {
      "application/vnd.jupyter.widget-view+json": {
       "model_id": "cc19b37502844d88b6d555869de0132c",
       "version_major": 2,
       "version_minor": 0
      },
      "text/plain": [
       "Deleting unused files from dataset repository:   0%|          | 0/1 [00:00<?, ?it/s]"
      ]
     },
     "metadata": {},
     "output_type": "display_data"
    },
    {
     "data": {
      "application/vnd.jupyter.widget-view+json": {
       "model_id": "857fdff833534c69b37994b7c7f21fa9",
       "version_major": 2,
       "version_minor": 0
      },
      "text/plain": [
       "Downloading metadata:   0%|          | 0.00/531 [00:00<?, ?B/s]"
      ]
     },
     "metadata": {},
     "output_type": "display_data"
    },
    {
     "ename": "ValueError",
     "evalue": "Features of the new split don't match the features of the existing splits on the hub: {'question': Value(dtype='string', id=None), 'answer': Value(dtype='string', id=None)} != {'text': Value(dtype='string', id=None)}",
     "output_type": "error",
     "traceback": [
      "\u001b[0;31m---------------------------------------------------------------------------\u001b[0m",
      "\u001b[0;31mValueError\u001b[0m                                Traceback (most recent call last)",
      "\u001b[1;32m/home/pechaut/prj/cairo-llm/datasets/dataset-code-llama-instruct.ipynb Cell 6\u001b[0m line \u001b[0;36m4\n\u001b[1;32m      <a href='vscode-notebook-cell:/home/pechaut/prj/cairo-llm/datasets/dataset-code-llama-instruct.ipynb#W5sZmlsZQ%3D%3D?line=1'>2</a>\u001b[0m \u001b[39mfor\u001b[39;00m key, dataframe \u001b[39min\u001b[39;00m dg\u001b[39m.\u001b[39mdataframes\u001b[39m.\u001b[39mitems():\n\u001b[1;32m      <a href='vscode-notebook-cell:/home/pechaut/prj/cairo-llm/datasets/dataset-code-llama-instruct.ipynb#W5sZmlsZQ%3D%3D?line=2'>3</a>\u001b[0m     dataset\u001b[39m=\u001b[39m Dataset\u001b[39m.\u001b[39mfrom_pandas(dataframe)\n\u001b[0;32m----> <a href='vscode-notebook-cell:/home/pechaut/prj/cairo-llm/datasets/dataset-code-llama-instruct.ipynb#W5sZmlsZQ%3D%3D?line=3'>4</a>\u001b[0m     dataset\u001b[39m.\u001b[39;49mpush_to_hub(\u001b[39m\"\u001b[39;49m\u001b[39mStarkWizard/cairo-instruct\u001b[39;49m\u001b[39m\"\u001b[39;49m,split\u001b[39m=\u001b[39;49mkey)\n",
      "File \u001b[0;32m~/miniconda3/envs/cairo-llm/lib/python3.9/site-packages/datasets/arrow_dataset.py:5486\u001b[0m, in \u001b[0;36mDataset.push_to_hub\u001b[0;34m(self, repo_id, config_name, split, private, token, branch, max_shard_size, num_shards, embed_external_files)\u001b[0m\n\u001b[1;32m   5484\u001b[0m \u001b[39mif\u001b[39;00m repo_info\u001b[39m.\u001b[39msplits \u001b[39mand\u001b[39;00m \u001b[39mlist\u001b[39m(repo_info\u001b[39m.\u001b[39msplits) \u001b[39m!=\u001b[39m [split]:\n\u001b[1;32m   5485\u001b[0m     \u001b[39mif\u001b[39;00m \u001b[39mself\u001b[39m\u001b[39m.\u001b[39m_info\u001b[39m.\u001b[39mfeatures \u001b[39m!=\u001b[39m repo_info\u001b[39m.\u001b[39mfeatures:\n\u001b[0;32m-> 5486\u001b[0m         \u001b[39mraise\u001b[39;00m \u001b[39mValueError\u001b[39;00m(\n\u001b[1;32m   5487\u001b[0m             \u001b[39mf\u001b[39m\u001b[39m\"\u001b[39m\u001b[39mFeatures of the new split don\u001b[39m\u001b[39m'\u001b[39m\u001b[39mt match the features of the existing splits on the hub: \u001b[39m\u001b[39m{\u001b[39;00m\u001b[39mself\u001b[39m\u001b[39m.\u001b[39m_info\u001b[39m.\u001b[39mfeatures\u001b[39m}\u001b[39;00m\u001b[39m != \u001b[39m\u001b[39m{\u001b[39;00mrepo_info\u001b[39m.\u001b[39mfeatures\u001b[39m}\u001b[39;00m\u001b[39m\"\u001b[39m\n\u001b[1;32m   5488\u001b[0m         )\n\u001b[1;32m   5490\u001b[0m     \u001b[39mif\u001b[39;00m split \u001b[39min\u001b[39;00m repo_info\u001b[39m.\u001b[39msplits:\n\u001b[1;32m   5491\u001b[0m         repo_info\u001b[39m.\u001b[39mdownload_size \u001b[39m-\u001b[39m\u001b[39m=\u001b[39m deleted_size\n",
      "\u001b[0;31mValueError\u001b[0m: Features of the new split don't match the features of the existing splits on the hub: {'question': Value(dtype='string', id=None), 'answer': Value(dtype='string', id=None)} != {'text': Value(dtype='string', id=None)}"
     ]
    }
   ],
   "source": [
    "from datasets import Dataset\n",
    "for key, dataframe in dg.dataframes.items():\n",
    "    dataset= Dataset.from_pandas(dataframe)\n",
    "    dataset.push_to_hub(\"StarkWizard/cairo-instruct\",split=key)\n"
   ]
  },
  {
   "cell_type": "code",
   "execution_count": 4,
   "metadata": {},
   "outputs": [
    {
     "ename": "KeyError",
     "evalue": "'train'",
     "output_type": "error",
     "traceback": [
      "\u001b[0;31m---------------------------------------------------------------------------\u001b[0m",
      "\u001b[0;31mKeyError\u001b[0m                                  Traceback (most recent call last)",
      "\u001b[1;32m/home/pechaut/prj/cairo-llm/0-build datasets/dataset-instruct.ipynb Cell 9\u001b[0m line \u001b[0;36m1\n\u001b[0;32m----> <a href='vscode-notebook-cell:/home/pechaut/prj/cairo-llm/0-build%20datasets/dataset-instruct.ipynb#X11sZmlsZQ%3D%3D?line=0'>1</a>\u001b[0m display(dg\u001b[39m.\u001b[39;49mdataframes[\u001b[39m\"\u001b[39;49m\u001b[39mtrain\u001b[39;49m\u001b[39m\"\u001b[39;49m])\n",
      "\u001b[0;31mKeyError\u001b[0m: 'train'"
     ]
    }
   ],
   "source": [
    "display(dg.dataframes[\"train\"])"
   ]
  }
 ],
 "metadata": {
  "kernelspec": {
   "display_name": "cairo-code",
   "language": "python",
   "name": "python3"
  },
  "language_info": {
   "codemirror_mode": {
    "name": "ipython",
    "version": 3
   },
   "file_extension": ".py",
   "mimetype": "text/x-python",
   "name": "python",
   "nbconvert_exporter": "python",
   "pygments_lexer": "ipython3",
   "version": "3.12.0"
  }
 },
 "nbformat": 4,
 "nbformat_minor": 2
}
