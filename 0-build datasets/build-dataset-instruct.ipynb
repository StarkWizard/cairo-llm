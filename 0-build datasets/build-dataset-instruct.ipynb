{
 "cells": [
  {
   "cell_type": "markdown",
   "metadata": {},
   "source": [
    "Login is required to push to HFace"
   ]
  },
  {
   "cell_type": "code",
   "execution_count": 1,
   "metadata": {},
   "outputs": [
    {
     "name": "stdout",
     "output_type": "stream",
     "text": [
      "Requirement already satisfied: huggingface_hub in /home/pec/anaconda3/envs/cairo-llm/lib/python3.10/site-packages (0.20.2)\n",
      "Requirement already satisfied: filelock in /home/pec/anaconda3/envs/cairo-llm/lib/python3.10/site-packages (from huggingface_hub) (3.13.1)\n",
      "Requirement already satisfied: fsspec>=2023.5.0 in /home/pec/anaconda3/envs/cairo-llm/lib/python3.10/site-packages (from huggingface_hub) (2023.12.2)\n",
      "Requirement already satisfied: requests in /home/pec/anaconda3/envs/cairo-llm/lib/python3.10/site-packages (from huggingface_hub) (2.28.1)\n",
      "Requirement already satisfied: tqdm>=4.42.1 in /home/pec/anaconda3/envs/cairo-llm/lib/python3.10/site-packages (from huggingface_hub) (4.66.1)\n",
      "Requirement already satisfied: pyyaml>=5.1 in /home/pec/anaconda3/envs/cairo-llm/lib/python3.10/site-packages (from huggingface_hub) (6.0.1)\n",
      "Requirement already satisfied: typing-extensions>=3.7.4.3 in /home/pec/anaconda3/envs/cairo-llm/lib/python3.10/site-packages (from huggingface_hub) (4.9.0)\n",
      "Requirement already satisfied: packaging>=20.9 in /home/pec/anaconda3/envs/cairo-llm/lib/python3.10/site-packages (from huggingface_hub) (23.2)\n",
      "Requirement already satisfied: charset-normalizer<3,>=2 in /home/pec/anaconda3/envs/cairo-llm/lib/python3.10/site-packages (from requests->huggingface_hub) (2.1.1)\n",
      "Requirement already satisfied: idna<4,>=2.5 in /home/pec/anaconda3/envs/cairo-llm/lib/python3.10/site-packages (from requests->huggingface_hub) (3.6)\n",
      "Requirement already satisfied: urllib3<1.27,>=1.21.1 in /home/pec/anaconda3/envs/cairo-llm/lib/python3.10/site-packages (from requests->huggingface_hub) (1.26.18)\n",
      "Requirement already satisfied: certifi>=2017.4.17 in /home/pec/anaconda3/envs/cairo-llm/lib/python3.10/site-packages (from requests->huggingface_hub) (2023.11.17)\n",
      "Requirement already satisfied: ipywidgets in /home/pec/anaconda3/envs/cairo-llm/lib/python3.10/site-packages (8.1.1)\n",
      "Requirement already satisfied: comm>=0.1.3 in /home/pec/anaconda3/envs/cairo-llm/lib/python3.10/site-packages (from ipywidgets) (0.2.1)\n",
      "Requirement already satisfied: ipython>=6.1.0 in /home/pec/anaconda3/envs/cairo-llm/lib/python3.10/site-packages (from ipywidgets) (8.20.0)\n",
      "Requirement already satisfied: traitlets>=4.3.1 in /home/pec/anaconda3/envs/cairo-llm/lib/python3.10/site-packages (from ipywidgets) (5.14.1)\n",
      "Requirement already satisfied: widgetsnbextension~=4.0.9 in /home/pec/anaconda3/envs/cairo-llm/lib/python3.10/site-packages (from ipywidgets) (4.0.9)\n",
      "Requirement already satisfied: jupyterlab-widgets~=3.0.9 in /home/pec/anaconda3/envs/cairo-llm/lib/python3.10/site-packages (from ipywidgets) (3.0.9)\n",
      "Requirement already satisfied: decorator in /home/pec/anaconda3/envs/cairo-llm/lib/python3.10/site-packages (from ipython>=6.1.0->ipywidgets) (5.1.1)\n",
      "Requirement already satisfied: jedi>=0.16 in /home/pec/anaconda3/envs/cairo-llm/lib/python3.10/site-packages (from ipython>=6.1.0->ipywidgets) (0.19.1)\n",
      "Requirement already satisfied: matplotlib-inline in /home/pec/anaconda3/envs/cairo-llm/lib/python3.10/site-packages (from ipython>=6.1.0->ipywidgets) (0.1.6)\n",
      "Requirement already satisfied: prompt-toolkit<3.1.0,>=3.0.41 in /home/pec/anaconda3/envs/cairo-llm/lib/python3.10/site-packages (from ipython>=6.1.0->ipywidgets) (3.0.42)\n",
      "Requirement already satisfied: pygments>=2.4.0 in /home/pec/anaconda3/envs/cairo-llm/lib/python3.10/site-packages (from ipython>=6.1.0->ipywidgets) (2.17.2)\n",
      "Requirement already satisfied: stack-data in /home/pec/anaconda3/envs/cairo-llm/lib/python3.10/site-packages (from ipython>=6.1.0->ipywidgets) (0.6.2)\n",
      "Requirement already satisfied: exceptiongroup in /home/pec/anaconda3/envs/cairo-llm/lib/python3.10/site-packages (from ipython>=6.1.0->ipywidgets) (1.2.0)\n",
      "Requirement already satisfied: pexpect>4.3 in /home/pec/anaconda3/envs/cairo-llm/lib/python3.10/site-packages (from ipython>=6.1.0->ipywidgets) (4.8.0)\n",
      "Requirement already satisfied: parso<0.9.0,>=0.8.3 in /home/pec/anaconda3/envs/cairo-llm/lib/python3.10/site-packages (from jedi>=0.16->ipython>=6.1.0->ipywidgets) (0.8.3)\n",
      "Requirement already satisfied: ptyprocess>=0.5 in /home/pec/anaconda3/envs/cairo-llm/lib/python3.10/site-packages (from pexpect>4.3->ipython>=6.1.0->ipywidgets) (0.7.0)\n",
      "Requirement already satisfied: wcwidth in /home/pec/anaconda3/envs/cairo-llm/lib/python3.10/site-packages (from prompt-toolkit<3.1.0,>=3.0.41->ipython>=6.1.0->ipywidgets) (0.2.13)\n",
      "Requirement already satisfied: executing>=1.2.0 in /home/pec/anaconda3/envs/cairo-llm/lib/python3.10/site-packages (from stack-data->ipython>=6.1.0->ipywidgets) (2.0.1)\n",
      "Requirement already satisfied: asttokens>=2.1.0 in /home/pec/anaconda3/envs/cairo-llm/lib/python3.10/site-packages (from stack-data->ipython>=6.1.0->ipywidgets) (2.4.1)\n",
      "Requirement already satisfied: pure-eval in /home/pec/anaconda3/envs/cairo-llm/lib/python3.10/site-packages (from stack-data->ipython>=6.1.0->ipywidgets) (0.2.2)\n",
      "Requirement already satisfied: six>=1.12.0 in /home/pec/anaconda3/envs/cairo-llm/lib/python3.10/site-packages (from asttokens>=2.1.0->stack-data->ipython>=6.1.0->ipywidgets) (1.16.0)\n",
      "Requirement already satisfied: neowgen in /home/pec/anaconda3/envs/cairo-llm/lib/python3.10/site-packages (0.0.5)\n",
      "Requirement already satisfied: pandas in /home/pec/anaconda3/envs/cairo-llm/lib/python3.10/site-packages (from neowgen) (2.1.4)\n",
      "Requirement already satisfied: tqdm in /home/pec/anaconda3/envs/cairo-llm/lib/python3.10/site-packages (from neowgen) (4.66.1)\n",
      "Requirement already satisfied: numpy in /home/pec/anaconda3/envs/cairo-llm/lib/python3.10/site-packages (from neowgen) (1.26.2)\n",
      "Requirement already satisfied: huggingface-hub in /home/pec/anaconda3/envs/cairo-llm/lib/python3.10/site-packages (from neowgen) (0.20.2)\n",
      "Requirement already satisfied: datasets in /home/pec/anaconda3/envs/cairo-llm/lib/python3.10/site-packages (from neowgen) (2.14.4)\n",
      "Requirement already satisfied: pyarrow>=8.0.0 in /home/pec/anaconda3/envs/cairo-llm/lib/python3.10/site-packages (from datasets->neowgen) (14.0.2)\n",
      "Requirement already satisfied: dill<0.3.8,>=0.3.0 in /home/pec/anaconda3/envs/cairo-llm/lib/python3.10/site-packages (from datasets->neowgen) (0.3.7)\n",
      "Requirement already satisfied: requests>=2.19.0 in /home/pec/anaconda3/envs/cairo-llm/lib/python3.10/site-packages (from datasets->neowgen) (2.28.1)\n",
      "Requirement already satisfied: xxhash in /home/pec/anaconda3/envs/cairo-llm/lib/python3.10/site-packages (from datasets->neowgen) (3.4.1)\n",
      "Requirement already satisfied: multiprocess in /home/pec/anaconda3/envs/cairo-llm/lib/python3.10/site-packages (from datasets->neowgen) (0.70.15)\n",
      "Requirement already satisfied: fsspec>=2021.11.1 in /home/pec/anaconda3/envs/cairo-llm/lib/python3.10/site-packages (from fsspec[http]>=2021.11.1->datasets->neowgen) (2023.12.2)\n",
      "Requirement already satisfied: aiohttp in /home/pec/anaconda3/envs/cairo-llm/lib/python3.10/site-packages (from datasets->neowgen) (3.8.1)\n",
      "Requirement already satisfied: packaging in /home/pec/anaconda3/envs/cairo-llm/lib/python3.10/site-packages (from datasets->neowgen) (23.2)\n",
      "Requirement already satisfied: pyyaml>=5.1 in /home/pec/anaconda3/envs/cairo-llm/lib/python3.10/site-packages (from datasets->neowgen) (6.0.1)\n",
      "Requirement already satisfied: filelock in /home/pec/anaconda3/envs/cairo-llm/lib/python3.10/site-packages (from huggingface-hub->neowgen) (3.13.1)\n",
      "Requirement already satisfied: typing-extensions>=3.7.4.3 in /home/pec/anaconda3/envs/cairo-llm/lib/python3.10/site-packages (from huggingface-hub->neowgen) (4.9.0)\n",
      "Requirement already satisfied: python-dateutil>=2.8.2 in /home/pec/anaconda3/envs/cairo-llm/lib/python3.10/site-packages (from pandas->neowgen) (2.8.2)\n",
      "Requirement already satisfied: pytz>=2020.1 in /home/pec/anaconda3/envs/cairo-llm/lib/python3.10/site-packages (from pandas->neowgen) (2023.3.post1)\n",
      "Requirement already satisfied: tzdata>=2022.1 in /home/pec/anaconda3/envs/cairo-llm/lib/python3.10/site-packages (from pandas->neowgen) (2023.3)\n",
      "Requirement already satisfied: attrs>=17.3.0 in /home/pec/anaconda3/envs/cairo-llm/lib/python3.10/site-packages (from aiohttp->datasets->neowgen) (23.1.0)\n",
      "Requirement already satisfied: charset-normalizer<3.0,>=2.0 in /home/pec/anaconda3/envs/cairo-llm/lib/python3.10/site-packages (from aiohttp->datasets->neowgen) (2.1.1)\n",
      "Requirement already satisfied: multidict<7.0,>=4.5 in /home/pec/anaconda3/envs/cairo-llm/lib/python3.10/site-packages (from aiohttp->datasets->neowgen) (6.0.4)\n",
      "Requirement already satisfied: async-timeout<5.0,>=4.0.0a3 in /home/pec/anaconda3/envs/cairo-llm/lib/python3.10/site-packages (from aiohttp->datasets->neowgen) (4.0.3)\n",
      "Requirement already satisfied: yarl<2.0,>=1.0 in /home/pec/anaconda3/envs/cairo-llm/lib/python3.10/site-packages (from aiohttp->datasets->neowgen) (1.9.3)\n",
      "Requirement already satisfied: frozenlist>=1.1.1 in /home/pec/anaconda3/envs/cairo-llm/lib/python3.10/site-packages (from aiohttp->datasets->neowgen) (1.4.1)\n",
      "Requirement already satisfied: aiosignal>=1.1.2 in /home/pec/anaconda3/envs/cairo-llm/lib/python3.10/site-packages (from aiohttp->datasets->neowgen) (1.3.1)\n",
      "Requirement already satisfied: six>=1.5 in /home/pec/anaconda3/envs/cairo-llm/lib/python3.10/site-packages (from python-dateutil>=2.8.2->pandas->neowgen) (1.16.0)\n",
      "Requirement already satisfied: idna<4,>=2.5 in /home/pec/anaconda3/envs/cairo-llm/lib/python3.10/site-packages (from requests>=2.19.0->datasets->neowgen) (3.6)\n",
      "Requirement already satisfied: urllib3<1.27,>=1.21.1 in /home/pec/anaconda3/envs/cairo-llm/lib/python3.10/site-packages (from requests>=2.19.0->datasets->neowgen) (1.26.18)\n",
      "Requirement already satisfied: certifi>=2017.4.17 in /home/pec/anaconda3/envs/cairo-llm/lib/python3.10/site-packages (from requests>=2.19.0->datasets->neowgen) (2023.11.17)\n"
     ]
    }
   ],
   "source": [
    "!pip install --upgrade huggingface_hub\n",
    "!pip install --upgrade ipywidgets\n",
    "!pip install --upgrade neowgen"
   ]
  },
  {
   "cell_type": "code",
   "execution_count": 7,
   "metadata": {},
   "outputs": [
    {
     "data": {
      "application/vnd.jupyter.widget-view+json": {
       "model_id": "9b530775c30c41e7bd12dd989d777aea",
       "version_major": 2,
       "version_minor": 0
      },
      "text/plain": [
       "VBox(children=(HTML(value='<center> <img\\nsrc=https://huggingface.co/front/assets/huggingface_logo-noborder.sv…"
      ]
     },
     "metadata": {},
     "output_type": "display_data"
    }
   ],
   "source": [
    "from huggingface_hub import login\n",
    "\n",
    "login()"
   ]
  },
  {
   "cell_type": "markdown",
   "metadata": {},
   "source": [
    "Loads the CSV in corpus and format for code Llama Instruct"
   ]
  },
  {
   "cell_type": "code",
   "execution_count": 8,
   "metadata": {},
   "outputs": [
    {
     "name": "stdout",
     "output_type": "stream",
     "text": [
      "Number of dataframes created: 9\n",
      "Number of CSV files read for 'train' dataframe: 2\n",
      "Number of CSV files read for 'train/Starklings' dataframe: 13\n",
      "Number of CSV files read for 'train/Dojo' dataframe: 39\n",
      "Number of CSV files read for 'train/generated' dataframe: 40\n",
      "Number of CSV files read for 'train/Code/Dojo/zknights' dataframe: 4\n",
      "Number of CSV files read for 'train/Code/Dojo/BeerBaron' dataframe: 11\n",
      "Number of CSV files read for 'train/alexandria' dataframe: 4\n",
      "Number of CSV files read for 'train/Cairo-book' dataframe: 70\n",
      "Number of CSV files read for 'eval' dataframe: 1\n",
      "Generating prompt for dataset 'train':\n",
      "Generating prompt for dataset 'train/Starklings':\n",
      "Generating prompt for dataset 'train/Dojo':\n",
      "Generating prompt for dataset 'train/generated':\n",
      "Generating prompt for dataset 'train/Code/Dojo/zknights':\n",
      "Generating prompt for dataset 'train/Code/Dojo/BeerBaron':\n",
      "Generating prompt for dataset 'train/alexandria':\n",
      "Generating prompt for dataset 'train/Cairo-book':\n",
      "Generating prompt for dataset 'eval':\n",
      "An unexpected error occurred: You need to provide a `token` or be logged in to Hugging Face with `huggingface-cli login`.\n"
     ]
    }
   ],
   "source": [
    "from neowGen import datasetGenerator\n",
    "\n",
    "dg = datasetGenerator(\"code llama instruct\")\n",
    "#we add a context to each line in order to specify we're working in Cairo\n",
    "dg.setlocalContext(\"In Cairo: \")\n",
    "if dg.generate_from_corpus(\"../corpus_src\"):\n",
    "    dg.generate_dataset()\n",
    "    dg.push_to_hub(\"StarkWizard/cairo-instruct\")"
   ]
  },
  {
   "cell_type": "markdown",
   "metadata": {},
   "source": [
    "If you see. Error. Invalid Arguments:\n",
    "\n",
    "you probably have a right issue"
   ]
  },
  {
   "cell_type": "markdown",
   "metadata": {},
   "source": [
    "---\n",
    "DEBUG"
   ]
  },
  {
   "cell_type": "code",
   "execution_count": 11,
   "metadata": {},
   "outputs": [
    {
     "name": "stdout",
     "output_type": "stream",
     "text": [
      "Empty DataFrame\n",
      "Columns: [text]\n",
      "Index: []\n",
      "Empty DataFrame\n",
      "Columns: [text]\n",
      "Index: []\n"
     ]
    }
   ],
   "source": [
    "for key, dataframe in dg.dataframes.items():\n",
    "    lignes_avec_nan = dataframe[dataframe.isna().any(axis=1)]\n",
    "    print(lignes_avec_nan)"
   ]
  },
  {
   "cell_type": "markdown",
   "metadata": {},
   "source": [
    "To make sure it is properly working, we can display the training data"
   ]
  },
  {
   "cell_type": "code",
   "execution_count": 13,
   "metadata": {},
   "outputs": [
    {
     "data": {
      "application/vnd.jupyter.widget-view+json": {
       "model_id": "f37479b354414aaba3cf96df35f94832",
       "version_major": 2,
       "version_minor": 0
      },
      "text/plain": [
       "Pushing dataset shards to the dataset hub:   0%|          | 0/1 [00:00<?, ?it/s]"
      ]
     },
     "metadata": {},
     "output_type": "display_data"
    },
    {
     "data": {
      "application/vnd.jupyter.widget-view+json": {
       "model_id": "2e0a7d3d78774d6ab2f98feb799196e0",
       "version_major": 2,
       "version_minor": 0
      },
      "text/plain": [
       "Creating parquet from Arrow format:   0%|          | 0/4 [00:00<?, ?ba/s]"
      ]
     },
     "metadata": {},
     "output_type": "display_data"
    },
    {
     "data": {
      "application/vnd.jupyter.widget-view+json": {
       "model_id": "cc19b37502844d88b6d555869de0132c",
       "version_major": 2,
       "version_minor": 0
      },
      "text/plain": [
       "Deleting unused files from dataset repository:   0%|          | 0/1 [00:00<?, ?it/s]"
      ]
     },
     "metadata": {},
     "output_type": "display_data"
    },
    {
     "data": {
      "application/vnd.jupyter.widget-view+json": {
       "model_id": "857fdff833534c69b37994b7c7f21fa9",
       "version_major": 2,
       "version_minor": 0
      },
      "text/plain": [
       "Downloading metadata:   0%|          | 0.00/531 [00:00<?, ?B/s]"
      ]
     },
     "metadata": {},
     "output_type": "display_data"
    },
    {
     "ename": "ValueError",
     "evalue": "Features of the new split don't match the features of the existing splits on the hub: {'question': Value(dtype='string', id=None), 'answer': Value(dtype='string', id=None)} != {'text': Value(dtype='string', id=None)}",
     "output_type": "error",
     "traceback": [
      "\u001b[0;31m---------------------------------------------------------------------------\u001b[0m",
      "\u001b[0;31mValueError\u001b[0m                                Traceback (most recent call last)",
      "\u001b[1;32m/home/pechaut/prj/cairo-llm/datasets/dataset-code-llama-instruct.ipynb Cell 6\u001b[0m line \u001b[0;36m4\n\u001b[1;32m      <a href='vscode-notebook-cell:/home/pechaut/prj/cairo-llm/datasets/dataset-code-llama-instruct.ipynb#W5sZmlsZQ%3D%3D?line=1'>2</a>\u001b[0m \u001b[39mfor\u001b[39;00m key, dataframe \u001b[39min\u001b[39;00m dg\u001b[39m.\u001b[39mdataframes\u001b[39m.\u001b[39mitems():\n\u001b[1;32m      <a href='vscode-notebook-cell:/home/pechaut/prj/cairo-llm/datasets/dataset-code-llama-instruct.ipynb#W5sZmlsZQ%3D%3D?line=2'>3</a>\u001b[0m     dataset\u001b[39m=\u001b[39m Dataset\u001b[39m.\u001b[39mfrom_pandas(dataframe)\n\u001b[0;32m----> <a href='vscode-notebook-cell:/home/pechaut/prj/cairo-llm/datasets/dataset-code-llama-instruct.ipynb#W5sZmlsZQ%3D%3D?line=3'>4</a>\u001b[0m     dataset\u001b[39m.\u001b[39;49mpush_to_hub(\u001b[39m\"\u001b[39;49m\u001b[39mStarkWizard/cairo-instruct\u001b[39;49m\u001b[39m\"\u001b[39;49m,split\u001b[39m=\u001b[39;49mkey)\n",
      "File \u001b[0;32m~/miniconda3/envs/cairo-llm/lib/python3.9/site-packages/datasets/arrow_dataset.py:5486\u001b[0m, in \u001b[0;36mDataset.push_to_hub\u001b[0;34m(self, repo_id, config_name, split, private, token, branch, max_shard_size, num_shards, embed_external_files)\u001b[0m\n\u001b[1;32m   5484\u001b[0m \u001b[39mif\u001b[39;00m repo_info\u001b[39m.\u001b[39msplits \u001b[39mand\u001b[39;00m \u001b[39mlist\u001b[39m(repo_info\u001b[39m.\u001b[39msplits) \u001b[39m!=\u001b[39m [split]:\n\u001b[1;32m   5485\u001b[0m     \u001b[39mif\u001b[39;00m \u001b[39mself\u001b[39m\u001b[39m.\u001b[39m_info\u001b[39m.\u001b[39mfeatures \u001b[39m!=\u001b[39m repo_info\u001b[39m.\u001b[39mfeatures:\n\u001b[0;32m-> 5486\u001b[0m         \u001b[39mraise\u001b[39;00m \u001b[39mValueError\u001b[39;00m(\n\u001b[1;32m   5487\u001b[0m             \u001b[39mf\u001b[39m\u001b[39m\"\u001b[39m\u001b[39mFeatures of the new split don\u001b[39m\u001b[39m'\u001b[39m\u001b[39mt match the features of the existing splits on the hub: \u001b[39m\u001b[39m{\u001b[39;00m\u001b[39mself\u001b[39m\u001b[39m.\u001b[39m_info\u001b[39m.\u001b[39mfeatures\u001b[39m}\u001b[39;00m\u001b[39m != \u001b[39m\u001b[39m{\u001b[39;00mrepo_info\u001b[39m.\u001b[39mfeatures\u001b[39m}\u001b[39;00m\u001b[39m\"\u001b[39m\n\u001b[1;32m   5488\u001b[0m         )\n\u001b[1;32m   5490\u001b[0m     \u001b[39mif\u001b[39;00m split \u001b[39min\u001b[39;00m repo_info\u001b[39m.\u001b[39msplits:\n\u001b[1;32m   5491\u001b[0m         repo_info\u001b[39m.\u001b[39mdownload_size \u001b[39m-\u001b[39m\u001b[39m=\u001b[39m deleted_size\n",
      "\u001b[0;31mValueError\u001b[0m: Features of the new split don't match the features of the existing splits on the hub: {'question': Value(dtype='string', id=None), 'answer': Value(dtype='string', id=None)} != {'text': Value(dtype='string', id=None)}"
     ]
    }
   ],
   "source": [
    "from datasets import Dataset\n",
    "for key, dataframe in dg.dataframes.items():\n",
    "    dataset= Dataset.from_pandas(dataframe)\n",
    "    dataset.push_to_hub(\"StarkWizard/cairo-instruct\",split=key)\n"
   ]
  },
  {
   "cell_type": "code",
   "execution_count": 4,
   "metadata": {},
   "outputs": [
    {
     "ename": "KeyError",
     "evalue": "'train'",
     "output_type": "error",
     "traceback": [
      "\u001b[0;31m---------------------------------------------------------------------------\u001b[0m",
      "\u001b[0;31mKeyError\u001b[0m                                  Traceback (most recent call last)",
      "\u001b[1;32m/home/pechaut/prj/cairo-llm/0-build datasets/dataset-instruct.ipynb Cell 9\u001b[0m line \u001b[0;36m1\n\u001b[0;32m----> <a href='vscode-notebook-cell:/home/pechaut/prj/cairo-llm/0-build%20datasets/dataset-instruct.ipynb#X11sZmlsZQ%3D%3D?line=0'>1</a>\u001b[0m display(dg\u001b[39m.\u001b[39;49mdataframes[\u001b[39m\"\u001b[39;49m\u001b[39mtrain\u001b[39;49m\u001b[39m\"\u001b[39;49m])\n",
      "\u001b[0;31mKeyError\u001b[0m: 'train'"
     ]
    }
   ],
   "source": [
    "display(dg.dataframes[\"train\"])"
   ]
  }
 ],
 "metadata": {
  "kernelspec": {
   "display_name": "cairo-code",
   "language": "python",
   "name": "python3"
  },
  "language_info": {
   "codemirror_mode": {
    "name": "ipython",
    "version": 3
   },
   "file_extension": ".py",
   "mimetype": "text/x-python",
   "name": "python",
   "nbconvert_exporter": "python",
   "pygments_lexer": "ipython3",
   "version": "3.10.13"
  }
 },
 "nbformat": 4,
 "nbformat_minor": 2
}
